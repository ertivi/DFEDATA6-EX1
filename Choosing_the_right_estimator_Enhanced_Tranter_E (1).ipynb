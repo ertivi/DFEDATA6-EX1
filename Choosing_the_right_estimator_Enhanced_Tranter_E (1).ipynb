{
  "cells": [
    {
      "cell_type": "markdown",
      "metadata": {
        "id": "b-MeKKMs55WA"
      },
      "source": [
        "# Practical Machine Learning \n",
        "### Project: Model Selection"
      ]
    },
    {
      "cell_type": "markdown",
      "metadata": {
        "id": "FEge15Hl55WD"
      },
      "source": [
        "# Abstract"
      ]
    },
    {
      "cell_type": "markdown",
      "metadata": {
        "id": "rmJJOdz955WE"
      },
      "source": [
        "# Part 1: Business and Data Understanding"
      ]
    },
    {
      "cell_type": "markdown",
      "metadata": {
        "id": "K_EWcKs255WG"
      },
      "source": [
        "### Q. Identify a suitable dataset for your canditate question(s)"
      ]
    },
    {
      "cell_type": "markdown",
      "metadata": {
        "id": "NA2qaEL155WH"
      },
      "source": [
        "Go have a look at any of these websites:\n",
        "\n",
        "* https://www.kaggle.com/datasets \n",
        "* https://datasetsearch.research.google.com/\n",
        "* https://data.gov.uk/\n",
        "\n",
        "Find an interesting looking data set related to your problem domain and get a copy of it\n"
      ]
    },
    {
      "cell_type": "markdown",
      "source": [
        "https://data.gov.uk/dataset/6efe5505-941f-45bf-b576-4c1e09b579a1/road-traffic-accidents"
      ],
      "metadata": {
        "id": "QYRrSWgQi_am"
      }
    },
    {
      "cell_type": "code",
      "source": [
        "import pandas as pd\n",
        "import matplotlib.pyplot as plt\n",
        "import seaborn as sns\n",
        "import numpy as np"
      ],
      "metadata": {
        "id": "PqtT1NC1ZdDn"
      },
      "execution_count": 1,
      "outputs": []
    },
    {
      "cell_type": "markdown",
      "metadata": {
        "id": "t6sxB-Op55WF"
      },
      "source": [
        "### Q. Define the problem domain"
      ]
    },
    {
      "cell_type": "markdown",
      "source": [
        "I want to look more into the road accidents in Leeds\n",
        " Database to see what interesting relations I can find. This can be a good data prediction on massive dissasters. Age, sex of people involved in road traffic, lighthing conditions"
      ],
      "metadata": {
        "id": "yR1aVEafaTEb"
      }
    },
    {
      "cell_type": "markdown",
      "metadata": {
        "id": "PasUNESl55WG"
      },
      "source": [
        "### Q. Identify candidate questions for your machine learning project"
      ]
    },
    {
      "cell_type": "markdown",
      "source": [
        "What is the ratio of accidents? What is the average age of people involved in road accidents? what time of road if the accident happening?"
      ],
      "metadata": {
        "id": "vbeDlP3dagwI"
      }
    },
    {
      "cell_type": "code",
      "source": [
        "data = pd.read_csv('/content/Traffic accidents_2019_Leeds.csv')"
      ],
      "metadata": {
        "id": "SA7uX0iNbDcT"
      },
      "execution_count": 2,
      "outputs": []
    },
    {
      "cell_type": "code",
      "source": [
        "data.info()\n",
        "data.head()"
      ],
      "metadata": {
        "colab": {
          "base_uri": "https://localhost:8080/",
          "height": 779
        },
        "id": "JH8OY4nhbRNy",
        "outputId": "a168a86e-8164-4966-9105-c1324a9a1876"
      },
      "execution_count": 3,
      "outputs": [
        {
          "output_type": "stream",
          "name": "stdout",
          "text": [
            "<class 'pandas.core.frame.DataFrame'>\n",
            "RangeIndex: 1907 entries, 0 to 1906\n",
            "Data columns (total 18 columns):\n",
            " #   Column               Non-Null Count  Dtype \n",
            "---  ------               --------------  ----- \n",
            " 0   Reference Number     1907 non-null   object\n",
            " 1   Grid Ref: Easting    1907 non-null   int64 \n",
            " 2   Grid Ref: Northing   1907 non-null   int64 \n",
            " 3   Number of Vehicles   1907 non-null   int64 \n",
            " 4   Accident Date        1907 non-null   object\n",
            " 5   Time (24hr)          1907 non-null   int64 \n",
            " 6   1st Road Class       1907 non-null   int64 \n",
            " 7   1st Road Class & No  1907 non-null   object\n",
            " 8   Road Surface         1907 non-null   int64 \n",
            " 9   Lighting Conditions  1907 non-null   int64 \n",
            " 10  Weather Conditions   1907 non-null   int64 \n",
            " 11  Local Authority      1907 non-null   object\n",
            " 12  Vehicle Number       1907 non-null   int64 \n",
            " 13  Type of Vehicle      1907 non-null   int64 \n",
            " 14  Casualty Class       1907 non-null   int64 \n",
            " 15  Casualty Severity    1907 non-null   int64 \n",
            " 16  Sex of Casualty      1907 non-null   int64 \n",
            " 17  Age of Casualty      1907 non-null   int64 \n",
            "dtypes: int64(14), object(4)\n",
            "memory usage: 268.3+ KB\n"
          ]
        },
        {
          "output_type": "execute_result",
          "data": {
            "text/plain": [
              "  Reference Number  Grid Ref: Easting  Grid Ref: Northing  Number of Vehicles  \\\n",
              "0          58F1730             436147              434957                   2   \n",
              "1          58F1730             436147              434957                   2   \n",
              "2          58F1730             436147              434957                   2   \n",
              "3          58F1730             436147              434957                   2   \n",
              "4          58F1730             436147              434957                   2   \n",
              "\n",
              "  Accident Date  Time (24hr)  1st Road Class 1st Road Class & No  \\\n",
              "0    15/08/2019         1812               3               A6120   \n",
              "1    15/08/2019         1812               3               A6120   \n",
              "2    15/08/2019         1812               3               A6120   \n",
              "3    15/08/2019         1812               3               A6120   \n",
              "4    15/08/2019         1812               3               A6120   \n",
              "\n",
              "   Road Surface  Lighting Conditions  Weather Conditions Local Authority  \\\n",
              "0             1                    1                   1       E08000035   \n",
              "1             1                    1                   1       E08000035   \n",
              "2             1                    1                   1       E08000035   \n",
              "3             1                    1                   1       E08000035   \n",
              "4             1                    1                   1       E08000035   \n",
              "\n",
              "   Vehicle Number  Type of Vehicle  Casualty Class  Casualty Severity  \\\n",
              "0               2               11               2                  3   \n",
              "1               2               11               2                  3   \n",
              "2               2               11               2                  3   \n",
              "3               2               11               2                  3   \n",
              "4               2               11               2                  3   \n",
              "\n",
              "   Sex of Casualty  Age of Casualty  \n",
              "0                2                6  \n",
              "1                1                9  \n",
              "2                2               39  \n",
              "3                1                5  \n",
              "4                2                8  "
            ],
            "text/html": [
              "\n",
              "  <div id=\"df-685821a6-ee2f-404e-a797-369df462960e\">\n",
              "    <div class=\"colab-df-container\">\n",
              "      <div>\n",
              "<style scoped>\n",
              "    .dataframe tbody tr th:only-of-type {\n",
              "        vertical-align: middle;\n",
              "    }\n",
              "\n",
              "    .dataframe tbody tr th {\n",
              "        vertical-align: top;\n",
              "    }\n",
              "\n",
              "    .dataframe thead th {\n",
              "        text-align: right;\n",
              "    }\n",
              "</style>\n",
              "<table border=\"1\" class=\"dataframe\">\n",
              "  <thead>\n",
              "    <tr style=\"text-align: right;\">\n",
              "      <th></th>\n",
              "      <th>Reference Number</th>\n",
              "      <th>Grid Ref: Easting</th>\n",
              "      <th>Grid Ref: Northing</th>\n",
              "      <th>Number of Vehicles</th>\n",
              "      <th>Accident Date</th>\n",
              "      <th>Time (24hr)</th>\n",
              "      <th>1st Road Class</th>\n",
              "      <th>1st Road Class &amp; No</th>\n",
              "      <th>Road Surface</th>\n",
              "      <th>Lighting Conditions</th>\n",
              "      <th>Weather Conditions</th>\n",
              "      <th>Local Authority</th>\n",
              "      <th>Vehicle Number</th>\n",
              "      <th>Type of Vehicle</th>\n",
              "      <th>Casualty Class</th>\n",
              "      <th>Casualty Severity</th>\n",
              "      <th>Sex of Casualty</th>\n",
              "      <th>Age of Casualty</th>\n",
              "    </tr>\n",
              "  </thead>\n",
              "  <tbody>\n",
              "    <tr>\n",
              "      <th>0</th>\n",
              "      <td>58F1730</td>\n",
              "      <td>436147</td>\n",
              "      <td>434957</td>\n",
              "      <td>2</td>\n",
              "      <td>15/08/2019</td>\n",
              "      <td>1812</td>\n",
              "      <td>3</td>\n",
              "      <td>A6120</td>\n",
              "      <td>1</td>\n",
              "      <td>1</td>\n",
              "      <td>1</td>\n",
              "      <td>E08000035</td>\n",
              "      <td>2</td>\n",
              "      <td>11</td>\n",
              "      <td>2</td>\n",
              "      <td>3</td>\n",
              "      <td>2</td>\n",
              "      <td>6</td>\n",
              "    </tr>\n",
              "    <tr>\n",
              "      <th>1</th>\n",
              "      <td>58F1730</td>\n",
              "      <td>436147</td>\n",
              "      <td>434957</td>\n",
              "      <td>2</td>\n",
              "      <td>15/08/2019</td>\n",
              "      <td>1812</td>\n",
              "      <td>3</td>\n",
              "      <td>A6120</td>\n",
              "      <td>1</td>\n",
              "      <td>1</td>\n",
              "      <td>1</td>\n",
              "      <td>E08000035</td>\n",
              "      <td>2</td>\n",
              "      <td>11</td>\n",
              "      <td>2</td>\n",
              "      <td>3</td>\n",
              "      <td>1</td>\n",
              "      <td>9</td>\n",
              "    </tr>\n",
              "    <tr>\n",
              "      <th>2</th>\n",
              "      <td>58F1730</td>\n",
              "      <td>436147</td>\n",
              "      <td>434957</td>\n",
              "      <td>2</td>\n",
              "      <td>15/08/2019</td>\n",
              "      <td>1812</td>\n",
              "      <td>3</td>\n",
              "      <td>A6120</td>\n",
              "      <td>1</td>\n",
              "      <td>1</td>\n",
              "      <td>1</td>\n",
              "      <td>E08000035</td>\n",
              "      <td>2</td>\n",
              "      <td>11</td>\n",
              "      <td>2</td>\n",
              "      <td>3</td>\n",
              "      <td>2</td>\n",
              "      <td>39</td>\n",
              "    </tr>\n",
              "    <tr>\n",
              "      <th>3</th>\n",
              "      <td>58F1730</td>\n",
              "      <td>436147</td>\n",
              "      <td>434957</td>\n",
              "      <td>2</td>\n",
              "      <td>15/08/2019</td>\n",
              "      <td>1812</td>\n",
              "      <td>3</td>\n",
              "      <td>A6120</td>\n",
              "      <td>1</td>\n",
              "      <td>1</td>\n",
              "      <td>1</td>\n",
              "      <td>E08000035</td>\n",
              "      <td>2</td>\n",
              "      <td>11</td>\n",
              "      <td>2</td>\n",
              "      <td>3</td>\n",
              "      <td>1</td>\n",
              "      <td>5</td>\n",
              "    </tr>\n",
              "    <tr>\n",
              "      <th>4</th>\n",
              "      <td>58F1730</td>\n",
              "      <td>436147</td>\n",
              "      <td>434957</td>\n",
              "      <td>2</td>\n",
              "      <td>15/08/2019</td>\n",
              "      <td>1812</td>\n",
              "      <td>3</td>\n",
              "      <td>A6120</td>\n",
              "      <td>1</td>\n",
              "      <td>1</td>\n",
              "      <td>1</td>\n",
              "      <td>E08000035</td>\n",
              "      <td>2</td>\n",
              "      <td>11</td>\n",
              "      <td>2</td>\n",
              "      <td>3</td>\n",
              "      <td>2</td>\n",
              "      <td>8</td>\n",
              "    </tr>\n",
              "  </tbody>\n",
              "</table>\n",
              "</div>\n",
              "      <button class=\"colab-df-convert\" onclick=\"convertToInteractive('df-685821a6-ee2f-404e-a797-369df462960e')\"\n",
              "              title=\"Convert this dataframe to an interactive table.\"\n",
              "              style=\"display:none;\">\n",
              "        \n",
              "  <svg xmlns=\"http://www.w3.org/2000/svg\" height=\"24px\"viewBox=\"0 0 24 24\"\n",
              "       width=\"24px\">\n",
              "    <path d=\"M0 0h24v24H0V0z\" fill=\"none\"/>\n",
              "    <path d=\"M18.56 5.44l.94 2.06.94-2.06 2.06-.94-2.06-.94-.94-2.06-.94 2.06-2.06.94zm-11 1L8.5 8.5l.94-2.06 2.06-.94-2.06-.94L8.5 2.5l-.94 2.06-2.06.94zm10 10l.94 2.06.94-2.06 2.06-.94-2.06-.94-.94-2.06-.94 2.06-2.06.94z\"/><path d=\"M17.41 7.96l-1.37-1.37c-.4-.4-.92-.59-1.43-.59-.52 0-1.04.2-1.43.59L10.3 9.45l-7.72 7.72c-.78.78-.78 2.05 0 2.83L4 21.41c.39.39.9.59 1.41.59.51 0 1.02-.2 1.41-.59l7.78-7.78 2.81-2.81c.8-.78.8-2.07 0-2.86zM5.41 20L4 18.59l7.72-7.72 1.47 1.35L5.41 20z\"/>\n",
              "  </svg>\n",
              "      </button>\n",
              "      \n",
              "  <style>\n",
              "    .colab-df-container {\n",
              "      display:flex;\n",
              "      flex-wrap:wrap;\n",
              "      gap: 12px;\n",
              "    }\n",
              "\n",
              "    .colab-df-convert {\n",
              "      background-color: #E8F0FE;\n",
              "      border: none;\n",
              "      border-radius: 50%;\n",
              "      cursor: pointer;\n",
              "      display: none;\n",
              "      fill: #1967D2;\n",
              "      height: 32px;\n",
              "      padding: 0 0 0 0;\n",
              "      width: 32px;\n",
              "    }\n",
              "\n",
              "    .colab-df-convert:hover {\n",
              "      background-color: #E2EBFA;\n",
              "      box-shadow: 0px 1px 2px rgba(60, 64, 67, 0.3), 0px 1px 3px 1px rgba(60, 64, 67, 0.15);\n",
              "      fill: #174EA6;\n",
              "    }\n",
              "\n",
              "    [theme=dark] .colab-df-convert {\n",
              "      background-color: #3B4455;\n",
              "      fill: #D2E3FC;\n",
              "    }\n",
              "\n",
              "    [theme=dark] .colab-df-convert:hover {\n",
              "      background-color: #434B5C;\n",
              "      box-shadow: 0px 1px 3px 1px rgba(0, 0, 0, 0.15);\n",
              "      filter: drop-shadow(0px 1px 2px rgba(0, 0, 0, 0.3));\n",
              "      fill: #FFFFFF;\n",
              "    }\n",
              "  </style>\n",
              "\n",
              "      <script>\n",
              "        const buttonEl =\n",
              "          document.querySelector('#df-685821a6-ee2f-404e-a797-369df462960e button.colab-df-convert');\n",
              "        buttonEl.style.display =\n",
              "          google.colab.kernel.accessAllowed ? 'block' : 'none';\n",
              "\n",
              "        async function convertToInteractive(key) {\n",
              "          const element = document.querySelector('#df-685821a6-ee2f-404e-a797-369df462960e');\n",
              "          const dataTable =\n",
              "            await google.colab.kernel.invokeFunction('convertToInteractive',\n",
              "                                                     [key], {});\n",
              "          if (!dataTable) return;\n",
              "\n",
              "          const docLinkHtml = 'Like what you see? Visit the ' +\n",
              "            '<a target=\"_blank\" href=https://colab.research.google.com/notebooks/data_table.ipynb>data table notebook</a>'\n",
              "            + ' to learn more about interactive tables.';\n",
              "          element.innerHTML = '';\n",
              "          dataTable['output_type'] = 'display_data';\n",
              "          await google.colab.output.renderOutput(dataTable, element);\n",
              "          const docLink = document.createElement('div');\n",
              "          docLink.innerHTML = docLinkHtml;\n",
              "          element.appendChild(docLink);\n",
              "        }\n",
              "      </script>\n",
              "    </div>\n",
              "  </div>\n",
              "  "
            ]
          },
          "metadata": {},
          "execution_count": 3
        }
      ]
    },
    {
      "cell_type": "code",
      "source": [
        "df = data.loc[:, ['Number of Vehicles','1st Road Class', 'Road Surface', 'Lighting Conditions', 'Weather Conditions', 'Vehicle Number', 'Type of Vehicle', 'Casualty Class','Casualty Severity', 'Sex of Casualty', 'Age of Casualty' ]]\n",
        "df.head()"
      ],
      "metadata": {
        "colab": {
          "base_uri": "https://localhost:8080/",
          "height": 267
        },
        "id": "E322NwQwkPYG",
        "outputId": "b2f65305-e736-45dc-cb0f-40001fe7b820"
      },
      "execution_count": 4,
      "outputs": [
        {
          "output_type": "execute_result",
          "data": {
            "text/plain": [
              "   Number of Vehicles  1st Road Class  Road Surface  Lighting Conditions  \\\n",
              "0                   2               3             1                    1   \n",
              "1                   2               3             1                    1   \n",
              "2                   2               3             1                    1   \n",
              "3                   2               3             1                    1   \n",
              "4                   2               3             1                    1   \n",
              "\n",
              "   Weather Conditions  Vehicle Number  Type of Vehicle  Casualty Class  \\\n",
              "0                   1               2               11               2   \n",
              "1                   1               2               11               2   \n",
              "2                   1               2               11               2   \n",
              "3                   1               2               11               2   \n",
              "4                   1               2               11               2   \n",
              "\n",
              "   Casualty Severity  Sex of Casualty  Age of Casualty  \n",
              "0                  3                2                6  \n",
              "1                  3                1                9  \n",
              "2                  3                2               39  \n",
              "3                  3                1                5  \n",
              "4                  3                2                8  "
            ],
            "text/html": [
              "\n",
              "  <div id=\"df-eba73fa4-219d-403a-bfc1-101129e50258\">\n",
              "    <div class=\"colab-df-container\">\n",
              "      <div>\n",
              "<style scoped>\n",
              "    .dataframe tbody tr th:only-of-type {\n",
              "        vertical-align: middle;\n",
              "    }\n",
              "\n",
              "    .dataframe tbody tr th {\n",
              "        vertical-align: top;\n",
              "    }\n",
              "\n",
              "    .dataframe thead th {\n",
              "        text-align: right;\n",
              "    }\n",
              "</style>\n",
              "<table border=\"1\" class=\"dataframe\">\n",
              "  <thead>\n",
              "    <tr style=\"text-align: right;\">\n",
              "      <th></th>\n",
              "      <th>Number of Vehicles</th>\n",
              "      <th>1st Road Class</th>\n",
              "      <th>Road Surface</th>\n",
              "      <th>Lighting Conditions</th>\n",
              "      <th>Weather Conditions</th>\n",
              "      <th>Vehicle Number</th>\n",
              "      <th>Type of Vehicle</th>\n",
              "      <th>Casualty Class</th>\n",
              "      <th>Casualty Severity</th>\n",
              "      <th>Sex of Casualty</th>\n",
              "      <th>Age of Casualty</th>\n",
              "    </tr>\n",
              "  </thead>\n",
              "  <tbody>\n",
              "    <tr>\n",
              "      <th>0</th>\n",
              "      <td>2</td>\n",
              "      <td>3</td>\n",
              "      <td>1</td>\n",
              "      <td>1</td>\n",
              "      <td>1</td>\n",
              "      <td>2</td>\n",
              "      <td>11</td>\n",
              "      <td>2</td>\n",
              "      <td>3</td>\n",
              "      <td>2</td>\n",
              "      <td>6</td>\n",
              "    </tr>\n",
              "    <tr>\n",
              "      <th>1</th>\n",
              "      <td>2</td>\n",
              "      <td>3</td>\n",
              "      <td>1</td>\n",
              "      <td>1</td>\n",
              "      <td>1</td>\n",
              "      <td>2</td>\n",
              "      <td>11</td>\n",
              "      <td>2</td>\n",
              "      <td>3</td>\n",
              "      <td>1</td>\n",
              "      <td>9</td>\n",
              "    </tr>\n",
              "    <tr>\n",
              "      <th>2</th>\n",
              "      <td>2</td>\n",
              "      <td>3</td>\n",
              "      <td>1</td>\n",
              "      <td>1</td>\n",
              "      <td>1</td>\n",
              "      <td>2</td>\n",
              "      <td>11</td>\n",
              "      <td>2</td>\n",
              "      <td>3</td>\n",
              "      <td>2</td>\n",
              "      <td>39</td>\n",
              "    </tr>\n",
              "    <tr>\n",
              "      <th>3</th>\n",
              "      <td>2</td>\n",
              "      <td>3</td>\n",
              "      <td>1</td>\n",
              "      <td>1</td>\n",
              "      <td>1</td>\n",
              "      <td>2</td>\n",
              "      <td>11</td>\n",
              "      <td>2</td>\n",
              "      <td>3</td>\n",
              "      <td>1</td>\n",
              "      <td>5</td>\n",
              "    </tr>\n",
              "    <tr>\n",
              "      <th>4</th>\n",
              "      <td>2</td>\n",
              "      <td>3</td>\n",
              "      <td>1</td>\n",
              "      <td>1</td>\n",
              "      <td>1</td>\n",
              "      <td>2</td>\n",
              "      <td>11</td>\n",
              "      <td>2</td>\n",
              "      <td>3</td>\n",
              "      <td>2</td>\n",
              "      <td>8</td>\n",
              "    </tr>\n",
              "  </tbody>\n",
              "</table>\n",
              "</div>\n",
              "      <button class=\"colab-df-convert\" onclick=\"convertToInteractive('df-eba73fa4-219d-403a-bfc1-101129e50258')\"\n",
              "              title=\"Convert this dataframe to an interactive table.\"\n",
              "              style=\"display:none;\">\n",
              "        \n",
              "  <svg xmlns=\"http://www.w3.org/2000/svg\" height=\"24px\"viewBox=\"0 0 24 24\"\n",
              "       width=\"24px\">\n",
              "    <path d=\"M0 0h24v24H0V0z\" fill=\"none\"/>\n",
              "    <path d=\"M18.56 5.44l.94 2.06.94-2.06 2.06-.94-2.06-.94-.94-2.06-.94 2.06-2.06.94zm-11 1L8.5 8.5l.94-2.06 2.06-.94-2.06-.94L8.5 2.5l-.94 2.06-2.06.94zm10 10l.94 2.06.94-2.06 2.06-.94-2.06-.94-.94-2.06-.94 2.06-2.06.94z\"/><path d=\"M17.41 7.96l-1.37-1.37c-.4-.4-.92-.59-1.43-.59-.52 0-1.04.2-1.43.59L10.3 9.45l-7.72 7.72c-.78.78-.78 2.05 0 2.83L4 21.41c.39.39.9.59 1.41.59.51 0 1.02-.2 1.41-.59l7.78-7.78 2.81-2.81c.8-.78.8-2.07 0-2.86zM5.41 20L4 18.59l7.72-7.72 1.47 1.35L5.41 20z\"/>\n",
              "  </svg>\n",
              "      </button>\n",
              "      \n",
              "  <style>\n",
              "    .colab-df-container {\n",
              "      display:flex;\n",
              "      flex-wrap:wrap;\n",
              "      gap: 12px;\n",
              "    }\n",
              "\n",
              "    .colab-df-convert {\n",
              "      background-color: #E8F0FE;\n",
              "      border: none;\n",
              "      border-radius: 50%;\n",
              "      cursor: pointer;\n",
              "      display: none;\n",
              "      fill: #1967D2;\n",
              "      height: 32px;\n",
              "      padding: 0 0 0 0;\n",
              "      width: 32px;\n",
              "    }\n",
              "\n",
              "    .colab-df-convert:hover {\n",
              "      background-color: #E2EBFA;\n",
              "      box-shadow: 0px 1px 2px rgba(60, 64, 67, 0.3), 0px 1px 3px 1px rgba(60, 64, 67, 0.15);\n",
              "      fill: #174EA6;\n",
              "    }\n",
              "\n",
              "    [theme=dark] .colab-df-convert {\n",
              "      background-color: #3B4455;\n",
              "      fill: #D2E3FC;\n",
              "    }\n",
              "\n",
              "    [theme=dark] .colab-df-convert:hover {\n",
              "      background-color: #434B5C;\n",
              "      box-shadow: 0px 1px 3px 1px rgba(0, 0, 0, 0.15);\n",
              "      filter: drop-shadow(0px 1px 2px rgba(0, 0, 0, 0.3));\n",
              "      fill: #FFFFFF;\n",
              "    }\n",
              "  </style>\n",
              "\n",
              "      <script>\n",
              "        const buttonEl =\n",
              "          document.querySelector('#df-eba73fa4-219d-403a-bfc1-101129e50258 button.colab-df-convert');\n",
              "        buttonEl.style.display =\n",
              "          google.colab.kernel.accessAllowed ? 'block' : 'none';\n",
              "\n",
              "        async function convertToInteractive(key) {\n",
              "          const element = document.querySelector('#df-eba73fa4-219d-403a-bfc1-101129e50258');\n",
              "          const dataTable =\n",
              "            await google.colab.kernel.invokeFunction('convertToInteractive',\n",
              "                                                     [key], {});\n",
              "          if (!dataTable) return;\n",
              "\n",
              "          const docLinkHtml = 'Like what you see? Visit the ' +\n",
              "            '<a target=\"_blank\" href=https://colab.research.google.com/notebooks/data_table.ipynb>data table notebook</a>'\n",
              "            + ' to learn more about interactive tables.';\n",
              "          element.innerHTML = '';\n",
              "          dataTable['output_type'] = 'display_data';\n",
              "          await google.colab.output.renderOutput(dataTable, element);\n",
              "          const docLink = document.createElement('div');\n",
              "          docLink.innerHTML = docLinkHtml;\n",
              "          element.appendChild(docLink);\n",
              "        }\n",
              "      </script>\n",
              "    </div>\n",
              "  </div>\n",
              "  "
            ]
          },
          "metadata": {},
          "execution_count": 4
        }
      ]
    },
    {
      "cell_type": "code",
      "source": [
        "allcols =['Number of Vehicles','1st Road Class', 'Road Surface', 'Lighting Conditions', 'Weather Conditions', 'Vehicle Number', 'Type of Vehicle', 'Casualty Class','Casualty Severity', 'Sex of Casualty', 'Age of Casualty' ]\n",
        "for col in allcols:\n",
        "  typekeys = df[col].value_counts().keys()\n",
        "  print (typekeys)"
      ],
      "metadata": {
        "colab": {
          "base_uri": "https://localhost:8080/"
        },
        "id": "LdaRa6eQcWng",
        "outputId": "0ed66ddc-9665-4165-c075-972bc78b725e"
      },
      "execution_count": 5,
      "outputs": [
        {
          "output_type": "stream",
          "name": "stdout",
          "text": [
            "Int64Index([2, 1, 3, 4, 5, 6], dtype='int64')\n",
            "Int64Index([6, 3, 1, 4, 2, 5], dtype='int64')\n",
            "Int64Index([1, 2, 4, 5, 3, 9], dtype='int64')\n",
            "Int64Index([1, 4, 6, 7, 5], dtype='int64')\n",
            "Int64Index([1, 2, 5, 4, 8, 3, 9, 7, 6], dtype='int64')\n",
            "Int64Index([1, 2, 3, 4, 5], dtype='int64')\n",
            "Int64Index([9, 1, 3, 19, 11, 8, 5, 4, 2, 21, 20, 10, 22, 97, 90, 16, 17], dtype='int64')\n",
            "Int64Index([1, 2, 3], dtype='int64')\n",
            "Int64Index([3, 2, 1], dtype='int64')\n",
            "Int64Index([1, 2], dtype='int64')\n",
            "Int64Index([27, 30, 20, 26, 29, 25, 24, 22, 32, 21, 19, 23, 28, 35, 40, 39, 34,\n",
            "            18, 38, 31, 33, 36, 45, 51, 41, 43, 17, 44, 37, 12, 46, 16, 52, 48,\n",
            "            50, 49, 47, 11, 54, 42, 55, 58, 56,  8, 59, 53, 57, 10, 63, 15, 13,\n",
            "            61, 60, 62, 64,  9, 69,  7, 70,  5, 14,  6, 67,  2, 73, 71, 68,  3,\n",
            "            74, 75,  4,  1, 81, 72, 89, 66, 83, 65, 78, 77, 79, 86, 76, 82, 88,\n",
            "            85, 80, 95, 84, 92, 87, 90],\n",
            "           dtype='int64')\n"
          ]
        }
      ]
    },
    {
      "cell_type": "code",
      "source": [
        "df.to_csv('road_accident.csv')"
      ],
      "metadata": {
        "id": "pn8dkxYnvMMn"
      },
      "execution_count": 6,
      "outputs": []
    },
    {
      "cell_type": "markdown",
      "metadata": {
        "id": "zsCo6Gmf55WH"
      },
      "source": [
        "### Q. Generate a descriptive statistics report for the columns in your dataset"
      ]
    },
    {
      "cell_type": "code",
      "source": [
        "df.describe().T"
      ],
      "metadata": {
        "colab": {
          "base_uri": "https://localhost:8080/",
          "height": 394
        },
        "id": "ndWwgLzsoDCV",
        "outputId": "928fe635-1130-4330-8de7-fbd1f9a89a44"
      },
      "execution_count": 7,
      "outputs": [
        {
          "output_type": "execute_result",
          "data": {
            "text/plain": [
              "                      count       mean        std  min   25%   50%   75%   max\n",
              "Number of Vehicles   1907.0   1.969061   0.819226  1.0   2.0   2.0   2.0   6.0\n",
              "1st Road Class       1907.0   4.399580   1.802633  1.0   3.0   6.0   6.0   6.0\n",
              "Road Surface         1907.0   1.321972   0.604421  1.0   1.0   1.0   2.0   9.0\n",
              "Lighting Conditions  1907.0   1.911904   1.559791  1.0   1.0   1.0   4.0   7.0\n",
              "Weather Conditions   1907.0   1.241741   0.815497  1.0   1.0   1.0   1.0   9.0\n",
              "Vehicle Number       1907.0   1.557944   0.619865  1.0   1.0   2.0   2.0   5.0\n",
              "Type of Vehicle      1907.0   8.344520   5.858360  1.0   9.0   9.0   9.0  97.0\n",
              "Casualty Class       1907.0   1.567383   0.767278  1.0   1.0   1.0   2.0   3.0\n",
              "Casualty Severity    1907.0   2.801783   0.426726  1.0   3.0   3.0   3.0   3.0\n",
              "Sex of Casualty      1907.0   1.397483   0.489506  1.0   1.0   1.0   2.0   2.0\n",
              "Age of Casualty      1907.0  35.798112  18.340336  1.0  22.5  32.0  47.0  95.0"
            ],
            "text/html": [
              "\n",
              "  <div id=\"df-5e0ae1c1-0a72-4dc3-92c7-946739cf2f26\">\n",
              "    <div class=\"colab-df-container\">\n",
              "      <div>\n",
              "<style scoped>\n",
              "    .dataframe tbody tr th:only-of-type {\n",
              "        vertical-align: middle;\n",
              "    }\n",
              "\n",
              "    .dataframe tbody tr th {\n",
              "        vertical-align: top;\n",
              "    }\n",
              "\n",
              "    .dataframe thead th {\n",
              "        text-align: right;\n",
              "    }\n",
              "</style>\n",
              "<table border=\"1\" class=\"dataframe\">\n",
              "  <thead>\n",
              "    <tr style=\"text-align: right;\">\n",
              "      <th></th>\n",
              "      <th>count</th>\n",
              "      <th>mean</th>\n",
              "      <th>std</th>\n",
              "      <th>min</th>\n",
              "      <th>25%</th>\n",
              "      <th>50%</th>\n",
              "      <th>75%</th>\n",
              "      <th>max</th>\n",
              "    </tr>\n",
              "  </thead>\n",
              "  <tbody>\n",
              "    <tr>\n",
              "      <th>Number of Vehicles</th>\n",
              "      <td>1907.0</td>\n",
              "      <td>1.969061</td>\n",
              "      <td>0.819226</td>\n",
              "      <td>1.0</td>\n",
              "      <td>2.0</td>\n",
              "      <td>2.0</td>\n",
              "      <td>2.0</td>\n",
              "      <td>6.0</td>\n",
              "    </tr>\n",
              "    <tr>\n",
              "      <th>1st Road Class</th>\n",
              "      <td>1907.0</td>\n",
              "      <td>4.399580</td>\n",
              "      <td>1.802633</td>\n",
              "      <td>1.0</td>\n",
              "      <td>3.0</td>\n",
              "      <td>6.0</td>\n",
              "      <td>6.0</td>\n",
              "      <td>6.0</td>\n",
              "    </tr>\n",
              "    <tr>\n",
              "      <th>Road Surface</th>\n",
              "      <td>1907.0</td>\n",
              "      <td>1.321972</td>\n",
              "      <td>0.604421</td>\n",
              "      <td>1.0</td>\n",
              "      <td>1.0</td>\n",
              "      <td>1.0</td>\n",
              "      <td>2.0</td>\n",
              "      <td>9.0</td>\n",
              "    </tr>\n",
              "    <tr>\n",
              "      <th>Lighting Conditions</th>\n",
              "      <td>1907.0</td>\n",
              "      <td>1.911904</td>\n",
              "      <td>1.559791</td>\n",
              "      <td>1.0</td>\n",
              "      <td>1.0</td>\n",
              "      <td>1.0</td>\n",
              "      <td>4.0</td>\n",
              "      <td>7.0</td>\n",
              "    </tr>\n",
              "    <tr>\n",
              "      <th>Weather Conditions</th>\n",
              "      <td>1907.0</td>\n",
              "      <td>1.241741</td>\n",
              "      <td>0.815497</td>\n",
              "      <td>1.0</td>\n",
              "      <td>1.0</td>\n",
              "      <td>1.0</td>\n",
              "      <td>1.0</td>\n",
              "      <td>9.0</td>\n",
              "    </tr>\n",
              "    <tr>\n",
              "      <th>Vehicle Number</th>\n",
              "      <td>1907.0</td>\n",
              "      <td>1.557944</td>\n",
              "      <td>0.619865</td>\n",
              "      <td>1.0</td>\n",
              "      <td>1.0</td>\n",
              "      <td>2.0</td>\n",
              "      <td>2.0</td>\n",
              "      <td>5.0</td>\n",
              "    </tr>\n",
              "    <tr>\n",
              "      <th>Type of Vehicle</th>\n",
              "      <td>1907.0</td>\n",
              "      <td>8.344520</td>\n",
              "      <td>5.858360</td>\n",
              "      <td>1.0</td>\n",
              "      <td>9.0</td>\n",
              "      <td>9.0</td>\n",
              "      <td>9.0</td>\n",
              "      <td>97.0</td>\n",
              "    </tr>\n",
              "    <tr>\n",
              "      <th>Casualty Class</th>\n",
              "      <td>1907.0</td>\n",
              "      <td>1.567383</td>\n",
              "      <td>0.767278</td>\n",
              "      <td>1.0</td>\n",
              "      <td>1.0</td>\n",
              "      <td>1.0</td>\n",
              "      <td>2.0</td>\n",
              "      <td>3.0</td>\n",
              "    </tr>\n",
              "    <tr>\n",
              "      <th>Casualty Severity</th>\n",
              "      <td>1907.0</td>\n",
              "      <td>2.801783</td>\n",
              "      <td>0.426726</td>\n",
              "      <td>1.0</td>\n",
              "      <td>3.0</td>\n",
              "      <td>3.0</td>\n",
              "      <td>3.0</td>\n",
              "      <td>3.0</td>\n",
              "    </tr>\n",
              "    <tr>\n",
              "      <th>Sex of Casualty</th>\n",
              "      <td>1907.0</td>\n",
              "      <td>1.397483</td>\n",
              "      <td>0.489506</td>\n",
              "      <td>1.0</td>\n",
              "      <td>1.0</td>\n",
              "      <td>1.0</td>\n",
              "      <td>2.0</td>\n",
              "      <td>2.0</td>\n",
              "    </tr>\n",
              "    <tr>\n",
              "      <th>Age of Casualty</th>\n",
              "      <td>1907.0</td>\n",
              "      <td>35.798112</td>\n",
              "      <td>18.340336</td>\n",
              "      <td>1.0</td>\n",
              "      <td>22.5</td>\n",
              "      <td>32.0</td>\n",
              "      <td>47.0</td>\n",
              "      <td>95.0</td>\n",
              "    </tr>\n",
              "  </tbody>\n",
              "</table>\n",
              "</div>\n",
              "      <button class=\"colab-df-convert\" onclick=\"convertToInteractive('df-5e0ae1c1-0a72-4dc3-92c7-946739cf2f26')\"\n",
              "              title=\"Convert this dataframe to an interactive table.\"\n",
              "              style=\"display:none;\">\n",
              "        \n",
              "  <svg xmlns=\"http://www.w3.org/2000/svg\" height=\"24px\"viewBox=\"0 0 24 24\"\n",
              "       width=\"24px\">\n",
              "    <path d=\"M0 0h24v24H0V0z\" fill=\"none\"/>\n",
              "    <path d=\"M18.56 5.44l.94 2.06.94-2.06 2.06-.94-2.06-.94-.94-2.06-.94 2.06-2.06.94zm-11 1L8.5 8.5l.94-2.06 2.06-.94-2.06-.94L8.5 2.5l-.94 2.06-2.06.94zm10 10l.94 2.06.94-2.06 2.06-.94-2.06-.94-.94-2.06-.94 2.06-2.06.94z\"/><path d=\"M17.41 7.96l-1.37-1.37c-.4-.4-.92-.59-1.43-.59-.52 0-1.04.2-1.43.59L10.3 9.45l-7.72 7.72c-.78.78-.78 2.05 0 2.83L4 21.41c.39.39.9.59 1.41.59.51 0 1.02-.2 1.41-.59l7.78-7.78 2.81-2.81c.8-.78.8-2.07 0-2.86zM5.41 20L4 18.59l7.72-7.72 1.47 1.35L5.41 20z\"/>\n",
              "  </svg>\n",
              "      </button>\n",
              "      \n",
              "  <style>\n",
              "    .colab-df-container {\n",
              "      display:flex;\n",
              "      flex-wrap:wrap;\n",
              "      gap: 12px;\n",
              "    }\n",
              "\n",
              "    .colab-df-convert {\n",
              "      background-color: #E8F0FE;\n",
              "      border: none;\n",
              "      border-radius: 50%;\n",
              "      cursor: pointer;\n",
              "      display: none;\n",
              "      fill: #1967D2;\n",
              "      height: 32px;\n",
              "      padding: 0 0 0 0;\n",
              "      width: 32px;\n",
              "    }\n",
              "\n",
              "    .colab-df-convert:hover {\n",
              "      background-color: #E2EBFA;\n",
              "      box-shadow: 0px 1px 2px rgba(60, 64, 67, 0.3), 0px 1px 3px 1px rgba(60, 64, 67, 0.15);\n",
              "      fill: #174EA6;\n",
              "    }\n",
              "\n",
              "    [theme=dark] .colab-df-convert {\n",
              "      background-color: #3B4455;\n",
              "      fill: #D2E3FC;\n",
              "    }\n",
              "\n",
              "    [theme=dark] .colab-df-convert:hover {\n",
              "      background-color: #434B5C;\n",
              "      box-shadow: 0px 1px 3px 1px rgba(0, 0, 0, 0.15);\n",
              "      filter: drop-shadow(0px 1px 2px rgba(0, 0, 0, 0.3));\n",
              "      fill: #FFFFFF;\n",
              "    }\n",
              "  </style>\n",
              "\n",
              "      <script>\n",
              "        const buttonEl =\n",
              "          document.querySelector('#df-5e0ae1c1-0a72-4dc3-92c7-946739cf2f26 button.colab-df-convert');\n",
              "        buttonEl.style.display =\n",
              "          google.colab.kernel.accessAllowed ? 'block' : 'none';\n",
              "\n",
              "        async function convertToInteractive(key) {\n",
              "          const element = document.querySelector('#df-5e0ae1c1-0a72-4dc3-92c7-946739cf2f26');\n",
              "          const dataTable =\n",
              "            await google.colab.kernel.invokeFunction('convertToInteractive',\n",
              "                                                     [key], {});\n",
              "          if (!dataTable) return;\n",
              "\n",
              "          const docLinkHtml = 'Like what you see? Visit the ' +\n",
              "            '<a target=\"_blank\" href=https://colab.research.google.com/notebooks/data_table.ipynb>data table notebook</a>'\n",
              "            + ' to learn more about interactive tables.';\n",
              "          element.innerHTML = '';\n",
              "          dataTable['output_type'] = 'display_data';\n",
              "          await google.colab.output.renderOutput(dataTable, element);\n",
              "          const docLink = document.createElement('div');\n",
              "          docLink.innerHTML = docLinkHtml;\n",
              "          element.appendChild(docLink);\n",
              "        }\n",
              "      </script>\n",
              "    </div>\n",
              "  </div>\n",
              "  "
            ]
          },
          "metadata": {},
          "execution_count": 7
        }
      ]
    },
    {
      "cell_type": "code",
      "source": [
        "df.corr()"
      ],
      "metadata": {
        "colab": {
          "base_uri": "https://localhost:8080/",
          "height": 629
        },
        "id": "TzrYmhhwnjc2",
        "outputId": "68314857-b7b0-43a6-d9f0-148adddc0bb7"
      },
      "execution_count": 8,
      "outputs": [
        {
          "output_type": "execute_result",
          "data": {
            "text/plain": [
              "                     Number of Vehicles  1st Road Class  Road Surface  \\\n",
              "Number of Vehicles             1.000000       -0.286504     -0.000004   \n",
              "1st Road Class                -0.286504        1.000000      0.021504   \n",
              "Road Surface                  -0.000004        0.021504      1.000000   \n",
              "Lighting Conditions           -0.071934        0.041635      0.193159   \n",
              "Weather Conditions            -0.047699        0.057030      0.455117   \n",
              "Vehicle Number                 0.552668       -0.157368     -0.072228   \n",
              "Type of Vehicle               -0.010240       -0.071319      0.019035   \n",
              "Casualty Class                -0.435307        0.206983      0.004103   \n",
              "Casualty Severity              0.098010       -0.067495     -0.047385   \n",
              "Sex of Casualty               -0.002026        0.005421      0.005223   \n",
              "Age of Casualty                0.064569       -0.098044      0.000661   \n",
              "\n",
              "                     Lighting Conditions  Weather Conditions  Vehicle Number  \\\n",
              "Number of Vehicles             -0.071934           -0.047699        0.552668   \n",
              "1st Road Class                  0.041635            0.057030       -0.157368   \n",
              "Road Surface                    0.193159            0.455117       -0.072228   \n",
              "Lighting Conditions             1.000000            0.102957       -0.068517   \n",
              "Weather Conditions              0.102957            1.000000       -0.047964   \n",
              "Vehicle Number                 -0.068517           -0.047964        1.000000   \n",
              "Type of Vehicle                 0.014692            0.012649       -0.103529   \n",
              "Casualty Class                  0.046171            0.017136       -0.369214   \n",
              "Casualty Severity              -0.067238           -0.012999        0.146586   \n",
              "Sex of Casualty                -0.062684           -0.035801       -0.018885   \n",
              "Age of Casualty                -0.037633            0.015648        0.063955   \n",
              "\n",
              "                     Type of Vehicle  Casualty Class  Casualty Severity  \\\n",
              "Number of Vehicles         -0.010240       -0.435307           0.098010   \n",
              "1st Road Class             -0.071319        0.206983          -0.067495   \n",
              "Road Surface                0.019035        0.004103          -0.047385   \n",
              "Lighting Conditions         0.014692        0.046171          -0.067238   \n",
              "Weather Conditions          0.012649        0.017136          -0.012999   \n",
              "Vehicle Number             -0.103529       -0.369214           0.146586   \n",
              "Type of Vehicle             1.000000        0.198569           0.041183   \n",
              "Casualty Class              0.198569        1.000000          -0.113017   \n",
              "Casualty Severity           0.041183       -0.113017           1.000000   \n",
              "Sex of Casualty             0.093097        0.146568           0.098581   \n",
              "Age of Casualty             0.044947       -0.141475          -0.084154   \n",
              "\n",
              "                     Sex of Casualty  Age of Casualty  \n",
              "Number of Vehicles         -0.002026         0.064569  \n",
              "1st Road Class              0.005421        -0.098044  \n",
              "Road Surface                0.005223         0.000661  \n",
              "Lighting Conditions        -0.062684        -0.037633  \n",
              "Weather Conditions         -0.035801         0.015648  \n",
              "Vehicle Number             -0.018885         0.063955  \n",
              "Type of Vehicle             0.093097         0.044947  \n",
              "Casualty Class              0.146568        -0.141475  \n",
              "Casualty Severity           0.098581        -0.084154  \n",
              "Sex of Casualty             1.000000         0.037637  \n",
              "Age of Casualty             0.037637         1.000000  "
            ],
            "text/html": [
              "\n",
              "  <div id=\"df-d16fcde4-6906-4c53-8938-3f2641f90488\">\n",
              "    <div class=\"colab-df-container\">\n",
              "      <div>\n",
              "<style scoped>\n",
              "    .dataframe tbody tr th:only-of-type {\n",
              "        vertical-align: middle;\n",
              "    }\n",
              "\n",
              "    .dataframe tbody tr th {\n",
              "        vertical-align: top;\n",
              "    }\n",
              "\n",
              "    .dataframe thead th {\n",
              "        text-align: right;\n",
              "    }\n",
              "</style>\n",
              "<table border=\"1\" class=\"dataframe\">\n",
              "  <thead>\n",
              "    <tr style=\"text-align: right;\">\n",
              "      <th></th>\n",
              "      <th>Number of Vehicles</th>\n",
              "      <th>1st Road Class</th>\n",
              "      <th>Road Surface</th>\n",
              "      <th>Lighting Conditions</th>\n",
              "      <th>Weather Conditions</th>\n",
              "      <th>Vehicle Number</th>\n",
              "      <th>Type of Vehicle</th>\n",
              "      <th>Casualty Class</th>\n",
              "      <th>Casualty Severity</th>\n",
              "      <th>Sex of Casualty</th>\n",
              "      <th>Age of Casualty</th>\n",
              "    </tr>\n",
              "  </thead>\n",
              "  <tbody>\n",
              "    <tr>\n",
              "      <th>Number of Vehicles</th>\n",
              "      <td>1.000000</td>\n",
              "      <td>-0.286504</td>\n",
              "      <td>-0.000004</td>\n",
              "      <td>-0.071934</td>\n",
              "      <td>-0.047699</td>\n",
              "      <td>0.552668</td>\n",
              "      <td>-0.010240</td>\n",
              "      <td>-0.435307</td>\n",
              "      <td>0.098010</td>\n",
              "      <td>-0.002026</td>\n",
              "      <td>0.064569</td>\n",
              "    </tr>\n",
              "    <tr>\n",
              "      <th>1st Road Class</th>\n",
              "      <td>-0.286504</td>\n",
              "      <td>1.000000</td>\n",
              "      <td>0.021504</td>\n",
              "      <td>0.041635</td>\n",
              "      <td>0.057030</td>\n",
              "      <td>-0.157368</td>\n",
              "      <td>-0.071319</td>\n",
              "      <td>0.206983</td>\n",
              "      <td>-0.067495</td>\n",
              "      <td>0.005421</td>\n",
              "      <td>-0.098044</td>\n",
              "    </tr>\n",
              "    <tr>\n",
              "      <th>Road Surface</th>\n",
              "      <td>-0.000004</td>\n",
              "      <td>0.021504</td>\n",
              "      <td>1.000000</td>\n",
              "      <td>0.193159</td>\n",
              "      <td>0.455117</td>\n",
              "      <td>-0.072228</td>\n",
              "      <td>0.019035</td>\n",
              "      <td>0.004103</td>\n",
              "      <td>-0.047385</td>\n",
              "      <td>0.005223</td>\n",
              "      <td>0.000661</td>\n",
              "    </tr>\n",
              "    <tr>\n",
              "      <th>Lighting Conditions</th>\n",
              "      <td>-0.071934</td>\n",
              "      <td>0.041635</td>\n",
              "      <td>0.193159</td>\n",
              "      <td>1.000000</td>\n",
              "      <td>0.102957</td>\n",
              "      <td>-0.068517</td>\n",
              "      <td>0.014692</td>\n",
              "      <td>0.046171</td>\n",
              "      <td>-0.067238</td>\n",
              "      <td>-0.062684</td>\n",
              "      <td>-0.037633</td>\n",
              "    </tr>\n",
              "    <tr>\n",
              "      <th>Weather Conditions</th>\n",
              "      <td>-0.047699</td>\n",
              "      <td>0.057030</td>\n",
              "      <td>0.455117</td>\n",
              "      <td>0.102957</td>\n",
              "      <td>1.000000</td>\n",
              "      <td>-0.047964</td>\n",
              "      <td>0.012649</td>\n",
              "      <td>0.017136</td>\n",
              "      <td>-0.012999</td>\n",
              "      <td>-0.035801</td>\n",
              "      <td>0.015648</td>\n",
              "    </tr>\n",
              "    <tr>\n",
              "      <th>Vehicle Number</th>\n",
              "      <td>0.552668</td>\n",
              "      <td>-0.157368</td>\n",
              "      <td>-0.072228</td>\n",
              "      <td>-0.068517</td>\n",
              "      <td>-0.047964</td>\n",
              "      <td>1.000000</td>\n",
              "      <td>-0.103529</td>\n",
              "      <td>-0.369214</td>\n",
              "      <td>0.146586</td>\n",
              "      <td>-0.018885</td>\n",
              "      <td>0.063955</td>\n",
              "    </tr>\n",
              "    <tr>\n",
              "      <th>Type of Vehicle</th>\n",
              "      <td>-0.010240</td>\n",
              "      <td>-0.071319</td>\n",
              "      <td>0.019035</td>\n",
              "      <td>0.014692</td>\n",
              "      <td>0.012649</td>\n",
              "      <td>-0.103529</td>\n",
              "      <td>1.000000</td>\n",
              "      <td>0.198569</td>\n",
              "      <td>0.041183</td>\n",
              "      <td>0.093097</td>\n",
              "      <td>0.044947</td>\n",
              "    </tr>\n",
              "    <tr>\n",
              "      <th>Casualty Class</th>\n",
              "      <td>-0.435307</td>\n",
              "      <td>0.206983</td>\n",
              "      <td>0.004103</td>\n",
              "      <td>0.046171</td>\n",
              "      <td>0.017136</td>\n",
              "      <td>-0.369214</td>\n",
              "      <td>0.198569</td>\n",
              "      <td>1.000000</td>\n",
              "      <td>-0.113017</td>\n",
              "      <td>0.146568</td>\n",
              "      <td>-0.141475</td>\n",
              "    </tr>\n",
              "    <tr>\n",
              "      <th>Casualty Severity</th>\n",
              "      <td>0.098010</td>\n",
              "      <td>-0.067495</td>\n",
              "      <td>-0.047385</td>\n",
              "      <td>-0.067238</td>\n",
              "      <td>-0.012999</td>\n",
              "      <td>0.146586</td>\n",
              "      <td>0.041183</td>\n",
              "      <td>-0.113017</td>\n",
              "      <td>1.000000</td>\n",
              "      <td>0.098581</td>\n",
              "      <td>-0.084154</td>\n",
              "    </tr>\n",
              "    <tr>\n",
              "      <th>Sex of Casualty</th>\n",
              "      <td>-0.002026</td>\n",
              "      <td>0.005421</td>\n",
              "      <td>0.005223</td>\n",
              "      <td>-0.062684</td>\n",
              "      <td>-0.035801</td>\n",
              "      <td>-0.018885</td>\n",
              "      <td>0.093097</td>\n",
              "      <td>0.146568</td>\n",
              "      <td>0.098581</td>\n",
              "      <td>1.000000</td>\n",
              "      <td>0.037637</td>\n",
              "    </tr>\n",
              "    <tr>\n",
              "      <th>Age of Casualty</th>\n",
              "      <td>0.064569</td>\n",
              "      <td>-0.098044</td>\n",
              "      <td>0.000661</td>\n",
              "      <td>-0.037633</td>\n",
              "      <td>0.015648</td>\n",
              "      <td>0.063955</td>\n",
              "      <td>0.044947</td>\n",
              "      <td>-0.141475</td>\n",
              "      <td>-0.084154</td>\n",
              "      <td>0.037637</td>\n",
              "      <td>1.000000</td>\n",
              "    </tr>\n",
              "  </tbody>\n",
              "</table>\n",
              "</div>\n",
              "      <button class=\"colab-df-convert\" onclick=\"convertToInteractive('df-d16fcde4-6906-4c53-8938-3f2641f90488')\"\n",
              "              title=\"Convert this dataframe to an interactive table.\"\n",
              "              style=\"display:none;\">\n",
              "        \n",
              "  <svg xmlns=\"http://www.w3.org/2000/svg\" height=\"24px\"viewBox=\"0 0 24 24\"\n",
              "       width=\"24px\">\n",
              "    <path d=\"M0 0h24v24H0V0z\" fill=\"none\"/>\n",
              "    <path d=\"M18.56 5.44l.94 2.06.94-2.06 2.06-.94-2.06-.94-.94-2.06-.94 2.06-2.06.94zm-11 1L8.5 8.5l.94-2.06 2.06-.94-2.06-.94L8.5 2.5l-.94 2.06-2.06.94zm10 10l.94 2.06.94-2.06 2.06-.94-2.06-.94-.94-2.06-.94 2.06-2.06.94z\"/><path d=\"M17.41 7.96l-1.37-1.37c-.4-.4-.92-.59-1.43-.59-.52 0-1.04.2-1.43.59L10.3 9.45l-7.72 7.72c-.78.78-.78 2.05 0 2.83L4 21.41c.39.39.9.59 1.41.59.51 0 1.02-.2 1.41-.59l7.78-7.78 2.81-2.81c.8-.78.8-2.07 0-2.86zM5.41 20L4 18.59l7.72-7.72 1.47 1.35L5.41 20z\"/>\n",
              "  </svg>\n",
              "      </button>\n",
              "      \n",
              "  <style>\n",
              "    .colab-df-container {\n",
              "      display:flex;\n",
              "      flex-wrap:wrap;\n",
              "      gap: 12px;\n",
              "    }\n",
              "\n",
              "    .colab-df-convert {\n",
              "      background-color: #E8F0FE;\n",
              "      border: none;\n",
              "      border-radius: 50%;\n",
              "      cursor: pointer;\n",
              "      display: none;\n",
              "      fill: #1967D2;\n",
              "      height: 32px;\n",
              "      padding: 0 0 0 0;\n",
              "      width: 32px;\n",
              "    }\n",
              "\n",
              "    .colab-df-convert:hover {\n",
              "      background-color: #E2EBFA;\n",
              "      box-shadow: 0px 1px 2px rgba(60, 64, 67, 0.3), 0px 1px 3px 1px rgba(60, 64, 67, 0.15);\n",
              "      fill: #174EA6;\n",
              "    }\n",
              "\n",
              "    [theme=dark] .colab-df-convert {\n",
              "      background-color: #3B4455;\n",
              "      fill: #D2E3FC;\n",
              "    }\n",
              "\n",
              "    [theme=dark] .colab-df-convert:hover {\n",
              "      background-color: #434B5C;\n",
              "      box-shadow: 0px 1px 3px 1px rgba(0, 0, 0, 0.15);\n",
              "      filter: drop-shadow(0px 1px 2px rgba(0, 0, 0, 0.3));\n",
              "      fill: #FFFFFF;\n",
              "    }\n",
              "  </style>\n",
              "\n",
              "      <script>\n",
              "        const buttonEl =\n",
              "          document.querySelector('#df-d16fcde4-6906-4c53-8938-3f2641f90488 button.colab-df-convert');\n",
              "        buttonEl.style.display =\n",
              "          google.colab.kernel.accessAllowed ? 'block' : 'none';\n",
              "\n",
              "        async function convertToInteractive(key) {\n",
              "          const element = document.querySelector('#df-d16fcde4-6906-4c53-8938-3f2641f90488');\n",
              "          const dataTable =\n",
              "            await google.colab.kernel.invokeFunction('convertToInteractive',\n",
              "                                                     [key], {});\n",
              "          if (!dataTable) return;\n",
              "\n",
              "          const docLinkHtml = 'Like what you see? Visit the ' +\n",
              "            '<a target=\"_blank\" href=https://colab.research.google.com/notebooks/data_table.ipynb>data table notebook</a>'\n",
              "            + ' to learn more about interactive tables.';\n",
              "          element.innerHTML = '';\n",
              "          dataTable['output_type'] = 'display_data';\n",
              "          await google.colab.output.renderOutput(dataTable, element);\n",
              "          const docLink = document.createElement('div');\n",
              "          docLink.innerHTML = docLinkHtml;\n",
              "          element.appendChild(docLink);\n",
              "        }\n",
              "      </script>\n",
              "    </div>\n",
              "  </div>\n",
              "  "
            ]
          },
          "metadata": {},
          "execution_count": 8
        }
      ]
    },
    {
      "cell_type": "code",
      "source": [
        "features = ['Number of Vehicles', '1st Road Class', 'Road Surface','Lighting Conditions', 'Weather Conditions', 'Vehicle Number',\n",
        "       'Type of Vehicle', 'Casualty Class', \n",
        "       'Sex of Casualty', 'Age of Casualty']\n",
        "       "
      ],
      "metadata": {
        "id": "b05HNgNS7ms7"
      },
      "execution_count": 9,
      "outputs": []
    },
    {
      "cell_type": "code",
      "source": [
        "x = df.loc[:, features]\n",
        "y = df.loc[:, 'Casualty Severity']\n",
        "x.dropna(inplace=True)\n",
        "y = y.iloc[x.index]\n"
      ],
      "metadata": {
        "id": "zuwk2KdE73bg"
      },
      "execution_count": 10,
      "outputs": []
    },
    {
      "cell_type": "code",
      "source": [
        "corr = x.corr()\n",
        "import matplotlib.pyplot as plt\n",
        "import seaborn as sns\n",
        "plt.figure()\n",
        "sns.heatmap(corr)\n",
        "plt.show()"
      ],
      "metadata": {
        "colab": {
          "base_uri": "https://localhost:8080/",
          "height": 357
        },
        "id": "8Rk05pCE8xSN",
        "outputId": "229c6e3a-3212-4fbf-da02-b16e1c873653"
      },
      "execution_count": 11,
      "outputs": [
        {
          "output_type": "display_data",
          "data": {
            "text/plain": [
              "<Figure size 432x288 with 2 Axes>"
            ],
            "image/png": "[encoded data removed]"
          },
          "metadata": {
            "needs_background": "light"
          }
        }
      ]
    },
    {
      "cell_type": "markdown",
      "metadata": {
        "id": "toYhhJ4v55WI"
      },
      "source": [
        "# Part 2: Data Preparation"
      ]
    },
    {
      "cell_type": "markdown",
      "metadata": {
        "id": "zUDh9O2T55WI"
      },
      "source": [
        "### Q. Discuss the following types of missing data and how they would be handled in reference to your dataset where applicable.\n",
        "*\tMissing completely at random (MCAR)\n",
        "*\tMissing at random (MAR)\n",
        "*\tMissing Not at Random (MNAR)"
      ]
    },
    {
      "cell_type": "markdown",
      "source": [
        "*There is not mising values in the database.*\n",
        "\n",
        "\n",
        "\n"
      ],
      "metadata": {
        "id": "9Y-Mq4lWp54P"
      }
    },
    {
      "cell_type": "markdown",
      "source": [
        "Q. Is there any correlation in the data? How would you decide which columns to keep?"
      ],
      "metadata": {
        "id": "Z-_eDG2e_C2W"
      }
    },
    {
      "cell_type": "markdown",
      "source": [
        "I have created a new dataframe with the columns that cointain numbers. The following columns have been not be included as it didnt provide any information for ML:Reference Number, Grid Ref: Easting, Grid Ref: Northing, Accident Date, Time (24hr), 1st Road Class & No, Local Authorit \n",
        "\n",
        "\n",
        "\n",
        "\n",
        "\n",
        "\n",
        "  "
      ],
      "metadata": {
        "id": "DkkD7G2MqTeA"
      }
    },
    {
      "cell_type": "markdown",
      "source": [
        "Q. Is there any imbalance in the label\n",
        "?"
      ],
      "metadata": {
        "id": "EUIqah7h_LAW"
      }
    },
    {
      "cell_type": "markdown",
      "source": [
        "no there isnt....see the code (above) with values for all the columns "
      ],
      "metadata": {
        "id": "Sd1OYIY5sBgK"
      }
    },
    {
      "cell_type": "markdown",
      "source": [
        "Q. Are there any outliers in the dataset? What do you do with them?"
      ],
      "metadata": {
        "id": "v9gQBGnZ_QiC"
      }
    },
    {
      "cell_type": "markdown",
      "source": [
        "Casualty Severity Column, this describe how serious was the casuality; this database contains 3 categories: 1 = Fatal, 2 = Serious, 3 = Slight "
      ],
      "metadata": {
        "id": "xYtf5py11LfZ"
      }
    },
    {
      "cell_type": "markdown",
      "source": [
        "Q. Are there any strings in the features that need to be converted to integers? Do you select One-Hot encoding or Label Encoding?"
      ],
      "metadata": {
        "id": "v3SRFiXRAzzu"
      }
    },
    {
      "cell_type": "markdown",
      "source": [
        "No the data has been convert to integers and I have only use columns that are significant for machine learning "
      ],
      "metadata": {
        "id": "h39GuSeztoy-"
      }
    },
    {
      "cell_type": "markdown",
      "source": [
        "Q. Split the data for TRAINING and SCORING (testing). OPTIONAL: Discuss what problems could happen we have poor distribution b/w training and testing?"
      ],
      "metadata": {
        "id": "TxPO0Ch5Pv3F"
      }
    },
    {
      "cell_type": "markdown",
      "metadata": {
        "id": "s5jKhdFd55WJ"
      },
      "source": [
        "# Part 3: Model Selection"
      ]
    },
    {
      "cell_type": "markdown",
      "source": [
        "Screen shor for my pipeline for the ML. My label column is Casualty \n"
      ],
      "metadata": {
        "id": "SNyVUfGG4vSG"
      }
    },
    {
      "cell_type": "markdown",
      "source": [
        "![image.png](data:image/png;base64,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)"
      ],
      "metadata": {
        "id": "zexHRt584qoy"
      }
    },
    {
      "cell_type": "markdown",
      "metadata": {
        "id": "bosw1yWg55WJ"
      },
      "source": [
        "### Q. Use the cheat sheet below to choose the algorithm/estimator suitable for building a model to address your candidate question(s)\n",
        "\n",
        "* https://scikit-learn.org/stable/tutorial/machine_learning_map/"
      ]
    },
    {
      "cell_type": "markdown",
      "metadata": {
        "id": "6SK8nej055WJ"
      },
      "source": [
        ""
      ]
    },
    {
      "cell_type": "markdown",
      "metadata": {
        "id": "gB-pblb255WJ"
      },
      "source": [
        "# Part 4: Model Evaluation"
      ]
    },
    {
      "cell_type": "markdown",
      "metadata": {
        "id": "w231rWpm55WK"
      },
      "source": [
        "### Q. Identify which of the statistical measures below are suitable for the evaluation of your model.\n",
        "\n",
        "Classification Metrics:\n",
        "* Accuracy\n",
        "* Precision\n",
        "* Recall\n",
        "* F1 Score\n",
        "\n",
        "Regression Metrics:\n",
        "    \n",
        "* Mean absolute error (MAE)\n",
        "* Root mean squared error (RMSE)\n",
        "* Relative absolute error (RAE)\n",
        "* Relative squared error (RSE)\n",
        "* Mean Zero One Error (MZOE)\n",
        "* Coefficient of determination\n",
        "\n",
        " "
      ]
    },
    {
      "cell_type": "markdown",
      "source": [
        "Based on the evaluation results for the ML using Linear regression and Desicion Forest regression, the model I chose for the ML is the one on the left: Linear regression. \n",
        "Root mean square error, relative squared error and the coeffcient of detemination are more favorable for the Linear regression\n",
        "\n",
        "\n"
      ],
      "metadata": {
        "id": "op5mlwFnA5KB"
      }
    },
    {
      "cell_type": "markdown",
      "source": [
        "![image.png](data:image/png;base64,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)"
      ],
      "metadata": {
        "id": "4f7otPFJ9iXm"
      }
    },
    {
      "cell_type": "markdown",
      "source": [
        "See below the final pipeline "
      ],
      "metadata": {
        "id": "iyB7ijT9FlR1"
      }
    },
    {
      "cell_type": "markdown",
      "source": [
        ""
      ],
      "metadata": {
        "id": "u3BKSfDIFjmj"
      }
    },
    {
      "cell_type": "markdown",
      "source": [
        "![image.png](data:image/png;base64,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)"
      ],
      "metadata": {
        "id": "e-bxvBRfFXto"
      }
    },
    {
      "cell_type": "markdown",
      "metadata": {
        "id": "V_GR5s4K55WK"
      },
      "source": [
        "# Part 5: Stretch - Model Deployment"
      ]
    },
    {
      "cell_type": "markdown",
      "metadata": {
        "id": "0g_JJnoh55WL"
      },
      "source": [
        "### Q. Evaluate the open-source app framework for Machine Learning model deployment below in your own time.\n",
        "\n",
        "* https://streamlit.io/"
      ]
    },
    {
      "cell_type": "code",
      "source": [
        "import urllib.request\n",
        "import json\n",
        "import os\n",
        "import ssl\n",
        "\n",
        "def allowSelfSignedHttps(allowed):\n",
        "    # bypass the server certificate verification on client side\n",
        "    if allowed and not os.environ.get('PYTHONHTTPSVERIFY', '') and getattr(ssl, '_create_unverified_context', None):\n",
        "        ssl._create_default_https_context = ssl._create_unverified_context\n",
        "\n",
        "allowSelfSignedHttps(True) # this line is needed if you use self-signed certificate in your scoring service.\n",
        "\n",
        "# Request data goes here\n",
        "data = {\n",
        "    \"Inputs\": {\n",
        "    },\n",
        "    \"GlobalParameters\": {\n",
        "    }\n",
        "}\n",
        "\n",
        "body = str.encode(json.dumps(data))\n",
        "\n",
        "url = 'http://3533ee04-b04c-4c55-874c-f86dc532fc89.centralindia.azurecontainer.io/score'\n",
        "api_key = 'vzcGMGPxdZbeoTS7A840AL0RTeWEaLwW' # Replace this with the API key for the web service\n",
        "headers = {'Content-Type':'application/json', 'Authorization':('Bearer '+ api_key)}\n",
        "\n",
        "req = urllib.request.Request(url, body, headers)\n",
        "\n",
        "try:\n",
        "    response = urllib.request.urlopen(req)\n",
        "\n",
        "    result = response.read()\n",
        "    print(result)\n",
        "except urllib.error.HTTPError as error:\n",
        "    print(\"The request failed with status code: \" + str(error.code))\n",
        "\n",
        "    # Print the headers - they include the requert ID and the timestamp, which are useful for debugging the failure\n",
        "    print(error.info())\n",
        "    print(error.read().decode(\"utf8\", 'ignore'))"
      ],
      "metadata": {
        "id": "mS9l7kc09sse",
        "colab": {
          "base_uri": "https://localhost:8080/"
        },
        "outputId": "b30dea91-0670-4803-89f4-0c281a6060fb"
      },
      "execution_count": 12,
      "outputs": [
        {
          "output_type": "stream",
          "name": "stdout",
          "text": [
            "The request failed with status code: 400\n",
            "Access-Control-Allow-Origin: *\n",
            "Content-Length: 183\n",
            "Content-Type: application/json\n",
            "Date: Fri, 18 Mar 2022 13:31:55 GMT\n",
            "Server: nginx/1.14.0 (Ubuntu)\n",
            "X-Ms-Request-Id: d5facdcc-63ad-4312-af0d-cf578f63288f\n",
            "X-Ms-Run-Fn-Exec-Ms: 1.285\n",
            "X-Ms-Run-Function-Failed: False\n",
            "Connection: close\n",
            "\n",
            "\n",
            "{\"error\": {\"code\": 400, \"message\": \"Input Data Error. Input data are inconsistent with schema.\\nSchema: {'WebServiceInput0': '0:Dataset'}\\nData: {}\\nNoneType: None\\n\", \"details\": \"\"}}\n"
          ]
        }
      ]
    }
  ],
  "metadata": {
    "kernelspec": {
      "display_name": "Python 3",
      "language": "python",
      "name": "python3"
    },
    "language_info": {
      "codemirror_mode": {
        "name": "ipython",
        "version": 3
      },
      "file_extension": ".py",
      "mimetype": "text/x-python",
      "name": "python",
      "nbconvert_exporter": "python",
      "pygments_lexer": "ipython3",
      "version": "3.7.4"
    },
    "colab": {
      "name": "Choosing the right estimator Enhanced_Tranter_E.ipynb",
      "provenance": [],
      "collapsed_sections": []
    }
  },
  "nbformat": 4,
  "nbformat_minor": 0
}